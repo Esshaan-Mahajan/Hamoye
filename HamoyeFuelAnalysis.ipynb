{
  "nbformat": 4,
  "nbformat_minor": 0,
  "metadata": {
    "colab": {
      "name": "HamoyeFuelAnalysis.ipynb",
      "provenance": []
    },
    "kernelspec": {
      "name": "python3",
      "display_name": "Python 3"
    },
    "language_info": {
      "name": "python"
    }
  },
  "cells": [
    {
      "cell_type": "code",
      "metadata": {
        "id": "9YtKzSi43jZM"
      },
      "source": [
        "import numpy as np\n",
        "import pandas as pd\n",
        "import matplotlib.pyplot as plt\n",
        "\n",
        "\n",
        "\n",
        "\n",
        "url = 'https://raw.githubusercontent.com/WalePhenomenon/climate_change/master/fuel_ferc1.csv'\n",
        "df = pd.read_csv(url)\n"
      ],
      "execution_count": 51,
      "outputs": []
    },
    {
      "cell_type": "code",
      "metadata": {
        "colab": {
          "base_uri": "https://localhost:8080/",
          "height": 226
        },
        "id": "pIcd3iDe3uDt",
        "outputId": "99752825-823f-4b01-bd24-d0bdeedb93d9"
      },
      "source": [
        "df.head()"
      ],
      "execution_count": 52,
      "outputs": [
        {
          "output_type": "execute_result",
          "data": {
            "text/html": [
              "<div>\n",
              "<style scoped>\n",
              "    .dataframe tbody tr th:only-of-type {\n",
              "        vertical-align: middle;\n",
              "    }\n",
              "\n",
              "    .dataframe tbody tr th {\n",
              "        vertical-align: top;\n",
              "    }\n",
              "\n",
              "    .dataframe thead th {\n",
              "        text-align: right;\n",
              "    }\n",
              "</style>\n",
              "<table border=\"1\" class=\"dataframe\">\n",
              "  <thead>\n",
              "    <tr style=\"text-align: right;\">\n",
              "      <th></th>\n",
              "      <th>record_id</th>\n",
              "      <th>utility_id_ferc1</th>\n",
              "      <th>report_year</th>\n",
              "      <th>plant_name_ferc1</th>\n",
              "      <th>fuel_type_code_pudl</th>\n",
              "      <th>fuel_unit</th>\n",
              "      <th>fuel_qty_burned</th>\n",
              "      <th>fuel_mmbtu_per_unit</th>\n",
              "      <th>fuel_cost_per_unit_burned</th>\n",
              "      <th>fuel_cost_per_unit_delivered</th>\n",
              "      <th>fuel_cost_per_mmbtu</th>\n",
              "    </tr>\n",
              "  </thead>\n",
              "  <tbody>\n",
              "    <tr>\n",
              "      <th>0</th>\n",
              "      <td>f1_fuel_1994_12_1_0_7</td>\n",
              "      <td>1</td>\n",
              "      <td>1994</td>\n",
              "      <td>rockport</td>\n",
              "      <td>coal</td>\n",
              "      <td>ton</td>\n",
              "      <td>5377489.0</td>\n",
              "      <td>16.590</td>\n",
              "      <td>18.59</td>\n",
              "      <td>18.53</td>\n",
              "      <td>1.121</td>\n",
              "    </tr>\n",
              "    <tr>\n",
              "      <th>1</th>\n",
              "      <td>f1_fuel_1994_12_1_0_10</td>\n",
              "      <td>1</td>\n",
              "      <td>1994</td>\n",
              "      <td>rockport total plant</td>\n",
              "      <td>coal</td>\n",
              "      <td>ton</td>\n",
              "      <td>10486945.0</td>\n",
              "      <td>16.592</td>\n",
              "      <td>18.58</td>\n",
              "      <td>18.53</td>\n",
              "      <td>1.120</td>\n",
              "    </tr>\n",
              "    <tr>\n",
              "      <th>2</th>\n",
              "      <td>f1_fuel_1994_12_2_0_1</td>\n",
              "      <td>2</td>\n",
              "      <td>1994</td>\n",
              "      <td>gorgas</td>\n",
              "      <td>coal</td>\n",
              "      <td>ton</td>\n",
              "      <td>2978683.0</td>\n",
              "      <td>24.130</td>\n",
              "      <td>39.72</td>\n",
              "      <td>38.12</td>\n",
              "      <td>1.650</td>\n",
              "    </tr>\n",
              "    <tr>\n",
              "      <th>3</th>\n",
              "      <td>f1_fuel_1994_12_2_0_7</td>\n",
              "      <td>2</td>\n",
              "      <td>1994</td>\n",
              "      <td>barry</td>\n",
              "      <td>coal</td>\n",
              "      <td>ton</td>\n",
              "      <td>3739484.0</td>\n",
              "      <td>23.950</td>\n",
              "      <td>47.21</td>\n",
              "      <td>45.99</td>\n",
              "      <td>1.970</td>\n",
              "    </tr>\n",
              "    <tr>\n",
              "      <th>4</th>\n",
              "      <td>f1_fuel_1994_12_2_0_10</td>\n",
              "      <td>2</td>\n",
              "      <td>1994</td>\n",
              "      <td>chickasaw</td>\n",
              "      <td>gas</td>\n",
              "      <td>mcf</td>\n",
              "      <td>40533.0</td>\n",
              "      <td>1.000</td>\n",
              "      <td>2.77</td>\n",
              "      <td>2.77</td>\n",
              "      <td>2.570</td>\n",
              "    </tr>\n",
              "  </tbody>\n",
              "</table>\n",
              "</div>"
            ],
            "text/plain": [
              "                record_id  ...  fuel_cost_per_mmbtu\n",
              "0   f1_fuel_1994_12_1_0_7  ...                1.121\n",
              "1  f1_fuel_1994_12_1_0_10  ...                1.120\n",
              "2   f1_fuel_1994_12_2_0_1  ...                1.650\n",
              "3   f1_fuel_1994_12_2_0_7  ...                1.970\n",
              "4  f1_fuel_1994_12_2_0_10  ...                2.570\n",
              "\n",
              "[5 rows x 11 columns]"
            ]
          },
          "metadata": {},
          "execution_count": 52
        }
      ]
    },
    {
      "cell_type": "code",
      "metadata": {
        "id": "p8TH-i7b3uZF"
      },
      "source": [
        "qty = df['fuel_cost_per_unit_burned']"
      ],
      "execution_count": 53,
      "outputs": []
    },
    {
      "cell_type": "code",
      "metadata": {
        "colab": {
          "base_uri": "https://localhost:8080/"
        },
        "id": "KNhdaO8O3ubQ",
        "outputId": "28b7d9dc-96a6-4299-ee75-f34f11766c96"
      },
      "source": [
        "print(qty)"
      ],
      "execution_count": 54,
      "outputs": [
        {
          "output_type": "stream",
          "text": [
            "0        18.59\n",
            "1        18.58\n",
            "2        39.72\n",
            "3        47.21\n",
            "4         2.77\n",
            "         ...  \n",
            "29518     4.78\n",
            "29519     3.65\n",
            "29520     4.77\n",
            "29521     3.06\n",
            "29522     0.00\n",
            "Name: fuel_cost_per_unit_burned, Length: 29523, dtype: float64\n"
          ],
          "name": "stdout"
        }
      ]
    },
    {
      "cell_type": "code",
      "metadata": {
        "colab": {
          "base_uri": "https://localhost:8080/"
        },
        "id": "DD3Nnfyg8CAg",
        "outputId": "1da75098-b79f-4660-865f-65a84fe770cd"
      },
      "source": [
        "qty.argmin()"
      ],
      "execution_count": 55,
      "outputs": [
        {
          "output_type": "execute_result",
          "data": {
            "text/plain": [
              "7733"
            ]
          },
          "metadata": {},
          "execution_count": 55
        }
      ]
    },
    {
      "cell_type": "code",
      "metadata": {
        "colab": {
          "base_uri": "https://localhost:8080/",
          "height": 35
        },
        "id": "exqFY2u73udr",
        "outputId": "3cf4c53a-4ddd-41cf-ab64-3dabd6558f59"
      },
      "source": [
        "df.at[qty.argmin(),'fuel_type_code_pudl']"
      ],
      "execution_count": 56,
      "outputs": [
        {
          "output_type": "execute_result",
          "data": {
            "application/vnd.google.colaboratory.intrinsic+json": {
              "type": "string"
            },
            "text/plain": [
              "'waste'"
            ]
          },
          "metadata": {},
          "execution_count": 56
        }
      ]
    },
    {
      "cell_type": "code",
      "metadata": {
        "colab": {
          "base_uri": "https://localhost:8080/"
        },
        "id": "Rh81dOSQ3ufo",
        "outputId": "d87eb01b-e550-448d-8e43-e068953541ba"
      },
      "source": [
        "df['fuel_mmbtu_per_unit'].std()"
      ],
      "execution_count": 57,
      "outputs": [
        {
          "output_type": "execute_result",
          "data": {
            "text/plain": [
              "10.600220307806886"
            ]
          },
          "metadata": {},
          "execution_count": 57
        }
      ]
    },
    {
      "cell_type": "code",
      "metadata": {
        "colab": {
          "base_uri": "https://localhost:8080/"
        },
        "id": "UruRKVKS3uh_",
        "outputId": "09684a56-90b2-47c8-db23-ec6d40050e0f"
      },
      "source": [
        "df['fuel_mmbtu_per_unit'].mean()"
      ],
      "execution_count": 58,
      "outputs": [
        {
          "output_type": "execute_result",
          "data": {
            "text/plain": [
              "8.49211066832643"
            ]
          },
          "metadata": {},
          "execution_count": 58
        }
      ]
    },
    {
      "cell_type": "code",
      "metadata": {
        "colab": {
          "base_uri": "https://localhost:8080/"
        },
        "id": "RYM5X5sj3ukB",
        "outputId": "66ac5f17-de8e-427d-8147-79563f0cd705"
      },
      "source": [
        "df['fuel_qty_burned'].skew()"
      ],
      "execution_count": 59,
      "outputs": [
        {
          "output_type": "execute_result",
          "data": {
            "text/plain": [
              "15.851495469109503"
            ]
          },
          "metadata": {},
          "execution_count": 59
        }
      ]
    },
    {
      "cell_type": "code",
      "metadata": {
        "colab": {
          "base_uri": "https://localhost:8080/"
        },
        "id": "_BjJ9fS33unc",
        "outputId": "59b33bee-78a7-4d2b-dfdd-911a78816c81"
      },
      "source": [
        "df['fuel_qty_burned'].kurtosis()"
      ],
      "execution_count": 60,
      "outputs": [
        {
          "output_type": "execute_result",
          "data": {
            "text/plain": [
              "651.3694501337732"
            ]
          },
          "metadata": {},
          "execution_count": 60
        }
      ]
    },
    {
      "cell_type": "code",
      "metadata": {
        "colab": {
          "base_uri": "https://localhost:8080/"
        },
        "id": "B2xV86ar_h3Z",
        "outputId": "de84a9f3-01bb-4553-980e-9eee47408ada"
      },
      "source": [
        "df.isna().any()"
      ],
      "execution_count": 61,
      "outputs": [
        {
          "output_type": "execute_result",
          "data": {
            "text/plain": [
              "record_id                       False\n",
              "utility_id_ferc1                False\n",
              "report_year                     False\n",
              "plant_name_ferc1                False\n",
              "fuel_type_code_pudl             False\n",
              "fuel_unit                        True\n",
              "fuel_qty_burned                 False\n",
              "fuel_mmbtu_per_unit             False\n",
              "fuel_cost_per_unit_burned       False\n",
              "fuel_cost_per_unit_delivered    False\n",
              "fuel_cost_per_mmbtu             False\n",
              "dtype: bool"
            ]
          },
          "metadata": {},
          "execution_count": 61
        }
      ]
    },
    {
      "cell_type": "code",
      "metadata": {
        "colab": {
          "base_uri": "https://localhost:8080/"
        },
        "id": "EYQ06pGa_h0c",
        "outputId": "0a83ea85-61a5-42de-bf61-3fb90cb4aec2"
      },
      "source": [
        "df['fuel_unit'].isnull().sum()"
      ],
      "execution_count": 62,
      "outputs": [
        {
          "output_type": "execute_result",
          "data": {
            "text/plain": [
              "180"
            ]
          },
          "metadata": {},
          "execution_count": 62
        }
      ]
    },
    {
      "cell_type": "code",
      "metadata": {
        "colab": {
          "base_uri": "https://localhost:8080/"
        },
        "id": "gM9q7sQo_hx9",
        "outputId": "147e4eb9-921f-458d-9cee-de2d017a04b1"
      },
      "source": [
        "df['fuel_unit'].count()"
      ],
      "execution_count": 63,
      "outputs": [
        {
          "output_type": "execute_result",
          "data": {
            "text/plain": [
              "29343"
            ]
          },
          "metadata": {},
          "execution_count": 63
        }
      ]
    },
    {
      "cell_type": "code",
      "metadata": {
        "colab": {
          "base_uri": "https://localhost:8080/"
        },
        "id": "Hcnapal1_hvk",
        "outputId": "58f4bb55-0931-40f0-a812-2e742533afbd"
      },
      "source": [
        "print(18000/29343)"
      ],
      "execution_count": 64,
      "outputs": [
        {
          "output_type": "stream",
          "text": [
            "0.6134342091810653\n"
          ],
          "name": "stdout"
        }
      ]
    },
    {
      "cell_type": "code",
      "metadata": {
        "colab": {
          "base_uri": "https://localhost:8080/"
        },
        "id": "Hb8Tox3h_htE",
        "outputId": "6469c93f-7b4c-4bd4-b10a-5b0cfbf06b9a"
      },
      "source": [
        "df['fuel_unit']"
      ],
      "execution_count": 65,
      "outputs": [
        {
          "output_type": "execute_result",
          "data": {
            "text/plain": [
              "0        ton\n",
              "1        ton\n",
              "2        ton\n",
              "3        ton\n",
              "4        mcf\n",
              "        ... \n",
              "29518    mcf\n",
              "29519    mcf\n",
              "29520    mcf\n",
              "29521    ton\n",
              "29522    mcf\n",
              "Name: fuel_unit, Length: 29523, dtype: object"
            ]
          },
          "metadata": {},
          "execution_count": 65
        }
      ]
    },
    {
      "cell_type": "code",
      "metadata": {
        "colab": {
          "base_uri": "https://localhost:8080/"
        },
        "id": "Z3MPgAwy_hqy",
        "outputId": "f73fbb28-3ee5-4672-e08d-9db588e3ea51"
      },
      "source": [
        "df.corr()['fuel_cost_per_unit_burned']"
      ],
      "execution_count": 66,
      "outputs": [
        {
          "output_type": "execute_result",
          "data": {
            "text/plain": [
              "utility_id_ferc1               -0.037863\n",
              "report_year                     0.013599\n",
              "fuel_qty_burned                -0.018535\n",
              "fuel_mmbtu_per_unit            -0.010034\n",
              "fuel_cost_per_unit_burned       1.000000\n",
              "fuel_cost_per_unit_delivered    0.011007\n",
              "fuel_cost_per_mmbtu            -0.000437\n",
              "Name: fuel_cost_per_unit_burned, dtype: float64"
            ]
          },
          "metadata": {},
          "execution_count": 66
        }
      ]
    },
    {
      "cell_type": "code",
      "metadata": {
        "colab": {
          "base_uri": "https://localhost:8080/",
          "height": 283
        },
        "id": "3PiiGY70_hoM",
        "outputId": "2c43a4f5-ed03-453c-f898-165aecaade90"
      },
      "source": [
        "plt.plot(df['fuel_cost_per_unit_burned'],df['report_year'])"
      ],
      "execution_count": 68,
      "outputs": [
        {
          "output_type": "execute_result",
          "data": {
            "text/plain": [
              "[<matplotlib.lines.Line2D at 0x7f5eb86f6750>]"
            ]
          },
          "metadata": {},
          "execution_count": 68
        },
        {
          "output_type": "display_data",
          "data": {
            "image/png": "[encoded data removed]",
            "text/plain": [
              "<Figure size 432x288 with 1 Axes>"
            ]
          },
          "metadata": {
            "needs_background": "light"
          }
        }
      ]
    },
    {
      "cell_type": "code",
      "metadata": {
        "colab": {
          "base_uri": "https://localhost:8080/",
          "height": 295
        },
        "id": "FIZgxy7r_hlx",
        "outputId": "62567f88-74a6-4663-c7c0-6f145d0254a6"
      },
      "source": [
        "\n",
        "plt.plot(df['fuel_cost_per_unit_delivered'],df['report_year'])"
      ],
      "execution_count": 70,
      "outputs": [
        {
          "output_type": "execute_result",
          "data": {
            "text/plain": [
              "[<matplotlib.lines.Line2D at 0x7f5ead20ef50>]"
            ]
          },
          "metadata": {},
          "execution_count": 70
        },
        {
          "output_type": "display_data",
          "data": {
            "image/png": "[encoded data removed]",
            "text/plain": [
              "<Figure size 432x288 with 1 Axes>"
            ]
          },
          "metadata": {
            "needs_background": "light"
          }
        }
      ]
    },
    {
      "cell_type": "code",
      "metadata": {
        "colab": {
          "base_uri": "https://localhost:8080/"
        },
        "id": "yVf1L9S__hjf",
        "outputId": "abd93bad-7c18-437e-a81c-7fe059f23fd8"
      },
      "source": [
        "print(df['fuel_cost_per_unit_delivered'].groupby(df['report_year']))"
      ],
      "execution_count": 72,
      "outputs": [
        {
          "output_type": "stream",
          "text": [
            "<pandas.core.groupby.generic.SeriesGroupBy object at 0x7f5ead178310>\n"
          ],
          "name": "stdout"
        }
      ]
    },
    {
      "cell_type": "code",
      "metadata": {
        "colab": {
          "base_uri": "https://localhost:8080/",
          "height": 461
        },
        "id": "luBmQJ74_hgp",
        "outputId": "8e9db271-fe2f-4164-b549-c8783067ef46"
      },
      "source": [
        ""
      ],
      "execution_count": 73,
      "outputs": [
        {
          "output_type": "execute_result",
          "data": {
            "text/html": [
              "<div>\n",
              "<style scoped>\n",
              "    .dataframe tbody tr th:only-of-type {\n",
              "        vertical-align: middle;\n",
              "    }\n",
              "\n",
              "    .dataframe tbody tr th {\n",
              "        vertical-align: top;\n",
              "    }\n",
              "\n",
              "    .dataframe thead th {\n",
              "        text-align: right;\n",
              "    }\n",
              "</style>\n",
              "<table border=\"1\" class=\"dataframe\">\n",
              "  <thead>\n",
              "    <tr style=\"text-align: right;\">\n",
              "      <th></th>\n",
              "      <th>record_id</th>\n",
              "      <th>utility_id_ferc1</th>\n",
              "      <th>report_year</th>\n",
              "      <th>plant_name_ferc1</th>\n",
              "      <th>fuel_type_code_pudl</th>\n",
              "      <th>fuel_unit</th>\n",
              "      <th>fuel_qty_burned</th>\n",
              "      <th>fuel_mmbtu_per_unit</th>\n",
              "      <th>fuel_cost_per_unit_burned</th>\n",
              "      <th>fuel_cost_per_unit_delivered</th>\n",
              "      <th>fuel_cost_per_mmbtu</th>\n",
              "    </tr>\n",
              "  </thead>\n",
              "  <tbody>\n",
              "    <tr>\n",
              "      <th>0</th>\n",
              "      <td>f1_fuel_1994_12_1_0_7</td>\n",
              "      <td>1</td>\n",
              "      <td>1994</td>\n",
              "      <td>rockport</td>\n",
              "      <td>coal</td>\n",
              "      <td>ton</td>\n",
              "      <td>5377489.0</td>\n",
              "      <td>16.590</td>\n",
              "      <td>18.59</td>\n",
              "      <td>18.53</td>\n",
              "      <td>1.121</td>\n",
              "    </tr>\n",
              "    <tr>\n",
              "      <th>1</th>\n",
              "      <td>f1_fuel_1994_12_1_0_10</td>\n",
              "      <td>1</td>\n",
              "      <td>1994</td>\n",
              "      <td>rockport total plant</td>\n",
              "      <td>coal</td>\n",
              "      <td>ton</td>\n",
              "      <td>10486945.0</td>\n",
              "      <td>16.592</td>\n",
              "      <td>18.58</td>\n",
              "      <td>18.53</td>\n",
              "      <td>1.120</td>\n",
              "    </tr>\n",
              "    <tr>\n",
              "      <th>2</th>\n",
              "      <td>f1_fuel_1994_12_2_0_1</td>\n",
              "      <td>2</td>\n",
              "      <td>1994</td>\n",
              "      <td>gorgas</td>\n",
              "      <td>coal</td>\n",
              "      <td>ton</td>\n",
              "      <td>2978683.0</td>\n",
              "      <td>24.130</td>\n",
              "      <td>39.72</td>\n",
              "      <td>38.12</td>\n",
              "      <td>1.650</td>\n",
              "    </tr>\n",
              "    <tr>\n",
              "      <th>3</th>\n",
              "      <td>f1_fuel_1994_12_2_0_7</td>\n",
              "      <td>2</td>\n",
              "      <td>1994</td>\n",
              "      <td>barry</td>\n",
              "      <td>coal</td>\n",
              "      <td>ton</td>\n",
              "      <td>3739484.0</td>\n",
              "      <td>23.950</td>\n",
              "      <td>47.21</td>\n",
              "      <td>45.99</td>\n",
              "      <td>1.970</td>\n",
              "    </tr>\n",
              "    <tr>\n",
              "      <th>4</th>\n",
              "      <td>f1_fuel_1994_12_2_0_10</td>\n",
              "      <td>2</td>\n",
              "      <td>1994</td>\n",
              "      <td>chickasaw</td>\n",
              "      <td>gas</td>\n",
              "      <td>mcf</td>\n",
              "      <td>40533.0</td>\n",
              "      <td>1.000</td>\n",
              "      <td>2.77</td>\n",
              "      <td>2.77</td>\n",
              "      <td>2.570</td>\n",
              "    </tr>\n",
              "    <tr>\n",
              "      <th>...</th>\n",
              "      <td>...</td>\n",
              "      <td>...</td>\n",
              "      <td>...</td>\n",
              "      <td>...</td>\n",
              "      <td>...</td>\n",
              "      <td>...</td>\n",
              "      <td>...</td>\n",
              "      <td>...</td>\n",
              "      <td>...</td>\n",
              "      <td>...</td>\n",
              "      <td>...</td>\n",
              "    </tr>\n",
              "    <tr>\n",
              "      <th>29518</th>\n",
              "      <td>f1_fuel_2018_12_12_0_13</td>\n",
              "      <td>12</td>\n",
              "      <td>2018</td>\n",
              "      <td>neil simpson ct #1</td>\n",
              "      <td>gas</td>\n",
              "      <td>mcf</td>\n",
              "      <td>18799.0</td>\n",
              "      <td>1.059</td>\n",
              "      <td>4.78</td>\n",
              "      <td>4.78</td>\n",
              "      <td>9.030</td>\n",
              "    </tr>\n",
              "    <tr>\n",
              "      <th>29519</th>\n",
              "      <td>f1_fuel_2018_12_12_1_1</td>\n",
              "      <td>12</td>\n",
              "      <td>2018</td>\n",
              "      <td>cheyenne prairie 58%</td>\n",
              "      <td>gas</td>\n",
              "      <td>mcf</td>\n",
              "      <td>806730.0</td>\n",
              "      <td>1.050</td>\n",
              "      <td>3.65</td>\n",
              "      <td>3.65</td>\n",
              "      <td>6.950</td>\n",
              "    </tr>\n",
              "    <tr>\n",
              "      <th>29520</th>\n",
              "      <td>f1_fuel_2018_12_12_1_10</td>\n",
              "      <td>12</td>\n",
              "      <td>2018</td>\n",
              "      <td>lange ct facility</td>\n",
              "      <td>gas</td>\n",
              "      <td>mcf</td>\n",
              "      <td>104554.0</td>\n",
              "      <td>1.060</td>\n",
              "      <td>4.77</td>\n",
              "      <td>4.77</td>\n",
              "      <td>8.990</td>\n",
              "    </tr>\n",
              "    <tr>\n",
              "      <th>29521</th>\n",
              "      <td>f1_fuel_2018_12_12_1_13</td>\n",
              "      <td>12</td>\n",
              "      <td>2018</td>\n",
              "      <td>wygen 3 bhp 52%</td>\n",
              "      <td>coal</td>\n",
              "      <td>ton</td>\n",
              "      <td>315945.0</td>\n",
              "      <td>16.108</td>\n",
              "      <td>3.06</td>\n",
              "      <td>14.76</td>\n",
              "      <td>1.110</td>\n",
              "    </tr>\n",
              "    <tr>\n",
              "      <th>29522</th>\n",
              "      <td>f1_fuel_2018_12_12_1_14</td>\n",
              "      <td>12</td>\n",
              "      <td>2018</td>\n",
              "      <td>wygen 3 bhp 52%</td>\n",
              "      <td>gas</td>\n",
              "      <td>mcf</td>\n",
              "      <td>17853.0</td>\n",
              "      <td>1.059</td>\n",
              "      <td>0.00</td>\n",
              "      <td>0.00</td>\n",
              "      <td>11.680</td>\n",
              "    </tr>\n",
              "  </tbody>\n",
              "</table>\n",
              "<p>29523 rows × 11 columns</p>\n",
              "</div>"
            ],
            "text/plain": [
              "                     record_id  ...  fuel_cost_per_mmbtu\n",
              "0        f1_fuel_1994_12_1_0_7  ...                1.121\n",
              "1       f1_fuel_1994_12_1_0_10  ...                1.120\n",
              "2        f1_fuel_1994_12_2_0_1  ...                1.650\n",
              "3        f1_fuel_1994_12_2_0_7  ...                1.970\n",
              "4       f1_fuel_1994_12_2_0_10  ...                2.570\n",
              "...                        ...  ...                  ...\n",
              "29518  f1_fuel_2018_12_12_0_13  ...                9.030\n",
              "29519   f1_fuel_2018_12_12_1_1  ...                6.950\n",
              "29520  f1_fuel_2018_12_12_1_10  ...                8.990\n",
              "29521  f1_fuel_2018_12_12_1_13  ...                1.110\n",
              "29522  f1_fuel_2018_12_12_1_14  ...               11.680\n",
              "\n",
              "[29523 rows x 11 columns]"
            ]
          },
          "metadata": {},
          "execution_count": 73
        }
      ]
    },
    {
      "cell_type": "code",
      "metadata": {
        "id": "dSRYlTuY_hes"
      },
      "source": [
        ""
      ],
      "execution_count": null,
      "outputs": []
    },
    {
      "cell_type": "code",
      "metadata": {
        "id": "Jb13dR2K_hcL"
      },
      "source": [
        ""
      ],
      "execution_count": null,
      "outputs": []
    },
    {
      "cell_type": "code",
      "metadata": {
        "id": "md7jXhIc_hZy"
      },
      "source": [
        ""
      ],
      "execution_count": null,
      "outputs": []
    },
    {
      "cell_type": "code",
      "metadata": {
        "id": "_iGB5pZt_hXc"
      },
      "source": [
        ""
      ],
      "execution_count": null,
      "outputs": []
    },
    {
      "cell_type": "code",
      "metadata": {
        "id": "xEod7QoP_hUy"
      },
      "source": [
        ""
      ],
      "execution_count": null,
      "outputs": []
    }
  ]
}